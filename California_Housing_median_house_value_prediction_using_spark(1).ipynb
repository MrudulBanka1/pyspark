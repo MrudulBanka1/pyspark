{
 "cells": [
  {
   "cell_type": "markdown",
   "metadata": {},
   "source": [
    "California Housing Data Set Description\n",
    "\n",
    "The below description follows order - Column title - Description - Range* - Datatype\n",
    "\n",
    "longitude - A measure of how far west a house is; a higher value is farther west\t\n",
    "•\tLongitude values range from -180 to +180\n",
    "•\tData set min: -124.3\n",
    "•\tData set max: -114.3\t\n",
    "float64\n",
    "\n",
    "latitude - A measure of how far north a house is; a higher value is farther north\t\n",
    "•\tLatitude values range from -90 to +90\n",
    "•\tData set min: 32.5\n",
    "•\tData set max: 42.5\t\n",
    "float64\n",
    "\n",
    "housingMedianAge - Median age of a house within a block; a lower number is a newer building\t\n",
    "•\tData set min: 1.0\n",
    "•\tData set max: 52.0\t\n",
    "float64\n",
    "\n",
    "totalRooms - Total number of rooms within a block\t\n",
    "•\tData set min: 2.0\n",
    "•\tData set max: 37937.0\t\n",
    "float64\n",
    "\n",
    "totalBedrooms - Total number of bedrooms within a block\t\n",
    "•\tData set min: 1.0\n",
    "•\tData set max: 6445.0\t\n",
    "float64\n",
    "\n",
    "population - Total number of people residing within a block\t\n",
    "•\tData set min: 3.0\n",
    "•\tData set max: 35682.0\t\n",
    "float64\n",
    "\n",
    "households - Total number of households, a group of people residing within a home unit, for a block\t\n",
    "•\tData set min: 1.0\n",
    "•\tData set max: 6082.0\t\n",
    "float64\n",
    "\n",
    "medianIncome - Median income for households within a block of houses (measured in tens of thousands of US Dollars)\t\n",
    "•\tData set min: 0.5\n",
    "•\tData set max: 15.0\t\n",
    "float64\n",
    "\n",
    "medianHouseValue - Median house value for households within a block (measured in US Dollars)\t\n",
    "•\tData set min: 14999.0\n",
    "•\tData set max: 500001.0\t\n",
    "float64"
   ]
  },
  {
   "cell_type": "markdown",
   "metadata": {},
   "source": [
    " Reference\n",
    "\n",
    "Pace, R. Kelley, and Ronald Barry, \"Sparse Spatial Autoregressions,\" Statistics and Probability Letters, Volume 33, Number 3, May 5 1997, p. 291-297.\n",
    "\n",
    "The following is the data methodology described in the paper:\n",
    "\n",
    "    We collected information on the variables using all the block groups in California from the 1990 Census. In this sample a block group on average includes 1425.5 individuals living in a geographically compact area. Naturally, the geographical area included varies inversely with the population density. We computed distances among the centroids of each block group as measured in latitude and longitude. We excluded all the block groups reporting zero entries for the independent and dependent variables. The final data contained 20,640 observations on 9 characteristics.\n"
   ]
  },
  {
   "cell_type": "code",
   "execution_count": 7,
   "metadata": {},
   "outputs": [],
   "source": [
    "import pyspark\n",
    "from pyspark import SparkContext, SparkConf\n",
    "# Spark Config\n",
    "conf = SparkConf().setAppName(\"2_app\")\n",
    "sc = SparkContext(conf=conf)\n",
    "import pandas\n",
    "import warnings\n",
    "warnings.filterwarnings('ignore')\n",
    "%matplotlib inline\n",
    "import pandas as pd\n",
    "#pd.options.display.mpl_style = 'default'"
   ]
  },
  {
   "cell_type": "code",
   "execution_count": 8,
   "metadata": {},
   "outputs": [],
   "source": [
    "from pyspark.sql import SQLContext\n",
    "sqlContext = SQLContext(sc)\n",
    "train_data = sqlContext.read.load('california_housing_train.csv', \n",
    "                          format='com.databricks.spark.csv', \n",
    "                          header='true', \n",
    "                          inferSchema='true')"
   ]
  },
  {
   "cell_type": "code",
   "execution_count": 19,
   "metadata": {},
   "outputs": [
    {
     "name": "stdout",
     "output_type": "stream",
     "text": [
      "17000\n",
      "root\n",
      " |-- longitude: double (nullable = true)\n",
      " |-- latitude: double (nullable = true)\n",
      " |-- housing_median_age: double (nullable = true)\n",
      " |-- total_rooms: double (nullable = true)\n",
      " |-- total_bedrooms: double (nullable = true)\n",
      " |-- population: double (nullable = true)\n",
      " |-- households: double (nullable = true)\n",
      " |-- median_income: double (nullable = true)\n",
      " |-- median_house_value: double (nullable = true)\n",
      "\n"
     ]
    },
    {
     "data": {
      "text/plain": [
       "[('longitude', 'double'),\n",
       " ('latitude', 'double'),\n",
       " ('housing_median_age', 'double'),\n",
       " ('total_rooms', 'double'),\n",
       " ('total_bedrooms', 'double'),\n",
       " ('population', 'double'),\n",
       " ('households', 'double'),\n",
       " ('median_income', 'double'),\n",
       " ('median_house_value', 'double')]"
      ]
     },
     "execution_count": 19,
     "metadata": {},
     "output_type": "execute_result"
    }
   ],
   "source": [
    "print(train_data.count())\n",
    "train_data.printSchema()\n",
    "train_data.dtypes"
   ]
  },
  {
   "cell_type": "code",
   "execution_count": 20,
   "metadata": {},
   "outputs": [
    {
     "name": "stdout",
     "output_type": "stream",
     "text": [
      "+---------+--------+------------------+-----------+--------------+----------+----------+-------------+------------------+\n",
      "|longitude|latitude|housing_median_age|total_rooms|total_bedrooms|population|households|median_income|median_house_value|\n",
      "+---------+--------+------------------+-----------+--------------+----------+----------+-------------+------------------+\n",
      "|  -114.31|   34.19|              15.0|     5612.0|        1283.0|    1015.0|     472.0|       1.4936|           66900.0|\n",
      "|  -114.47|    34.4|              19.0|     7650.0|        1901.0|    1129.0|     463.0|         1.82|           80100.0|\n",
      "|  -114.56|   33.69|              17.0|      720.0|         174.0|     333.0|     117.0|       1.6509|           85700.0|\n",
      "|  -114.57|   33.64|              14.0|     1501.0|         337.0|     515.0|     226.0|       3.1917|           73400.0|\n",
      "|  -114.57|   33.57|              20.0|     1454.0|         326.0|     624.0|     262.0|        1.925|           65500.0|\n",
      "+---------+--------+------------------+-----------+--------------+----------+----------+-------------+------------------+\n",
      "only showing top 5 rows\n",
      "\n"
     ]
    },
    {
     "data": {
      "text/html": [
       "<div>\n",
       "<style scoped>\n",
       "    .dataframe tbody tr th:only-of-type {\n",
       "        vertical-align: middle;\n",
       "    }\n",
       "\n",
       "    .dataframe tbody tr th {\n",
       "        vertical-align: top;\n",
       "    }\n",
       "\n",
       "    .dataframe thead th {\n",
       "        text-align: right;\n",
       "    }\n",
       "</style>\n",
       "<table border=\"1\" class=\"dataframe\">\n",
       "  <thead>\n",
       "    <tr style=\"text-align: right;\">\n",
       "      <th></th>\n",
       "      <th>longitude</th>\n",
       "      <th>latitude</th>\n",
       "      <th>housing_median_age</th>\n",
       "      <th>total_rooms</th>\n",
       "      <th>total_bedrooms</th>\n",
       "      <th>population</th>\n",
       "      <th>households</th>\n",
       "      <th>median_income</th>\n",
       "      <th>median_house_value</th>\n",
       "    </tr>\n",
       "  </thead>\n",
       "  <tbody>\n",
       "    <tr>\n",
       "      <th>0</th>\n",
       "      <td>-114.31</td>\n",
       "      <td>34.19</td>\n",
       "      <td>15.0</td>\n",
       "      <td>5612.0</td>\n",
       "      <td>1283.0</td>\n",
       "      <td>1015.0</td>\n",
       "      <td>472.0</td>\n",
       "      <td>1.4936</td>\n",
       "      <td>66900.0</td>\n",
       "    </tr>\n",
       "    <tr>\n",
       "      <th>1</th>\n",
       "      <td>-114.47</td>\n",
       "      <td>34.40</td>\n",
       "      <td>19.0</td>\n",
       "      <td>7650.0</td>\n",
       "      <td>1901.0</td>\n",
       "      <td>1129.0</td>\n",
       "      <td>463.0</td>\n",
       "      <td>1.8200</td>\n",
       "      <td>80100.0</td>\n",
       "    </tr>\n",
       "    <tr>\n",
       "      <th>2</th>\n",
       "      <td>-114.56</td>\n",
       "      <td>33.69</td>\n",
       "      <td>17.0</td>\n",
       "      <td>720.0</td>\n",
       "      <td>174.0</td>\n",
       "      <td>333.0</td>\n",
       "      <td>117.0</td>\n",
       "      <td>1.6509</td>\n",
       "      <td>85700.0</td>\n",
       "    </tr>\n",
       "    <tr>\n",
       "      <th>3</th>\n",
       "      <td>-114.57</td>\n",
       "      <td>33.64</td>\n",
       "      <td>14.0</td>\n",
       "      <td>1501.0</td>\n",
       "      <td>337.0</td>\n",
       "      <td>515.0</td>\n",
       "      <td>226.0</td>\n",
       "      <td>3.1917</td>\n",
       "      <td>73400.0</td>\n",
       "    </tr>\n",
       "    <tr>\n",
       "      <th>4</th>\n",
       "      <td>-114.57</td>\n",
       "      <td>33.57</td>\n",
       "      <td>20.0</td>\n",
       "      <td>1454.0</td>\n",
       "      <td>326.0</td>\n",
       "      <td>624.0</td>\n",
       "      <td>262.0</td>\n",
       "      <td>1.9250</td>\n",
       "      <td>65500.0</td>\n",
       "    </tr>\n",
       "  </tbody>\n",
       "</table>\n",
       "</div>"
      ],
      "text/plain": [
       "   longitude  latitude  housing_median_age  total_rooms  total_bedrooms  \\\n",
       "0    -114.31     34.19                15.0       5612.0          1283.0   \n",
       "1    -114.47     34.40                19.0       7650.0          1901.0   \n",
       "2    -114.56     33.69                17.0        720.0           174.0   \n",
       "3    -114.57     33.64                14.0       1501.0           337.0   \n",
       "4    -114.57     33.57                20.0       1454.0           326.0   \n",
       "\n",
       "   population  households  median_income  median_house_value  \n",
       "0      1015.0       472.0         1.4936             66900.0  \n",
       "1      1129.0       463.0         1.8200             80100.0  \n",
       "2       333.0       117.0         1.6509             85700.0  \n",
       "3       515.0       226.0         3.1917             73400.0  \n",
       "4       624.0       262.0         1.9250             65500.0  "
      ]
     },
     "execution_count": 20,
     "metadata": {},
     "output_type": "execute_result"
    }
   ],
   "source": [
    "train_data.show(5) \n",
    "pd.DataFrame(train_data.take(5), columns=train_data.columns)"
   ]
  },
  {
   "cell_type": "code",
   "execution_count": 24,
   "metadata": {},
   "outputs": [
    {
     "data": {
      "text/html": [
       "<div>\n",
       "<style scoped>\n",
       "    .dataframe tbody tr th:only-of-type {\n",
       "        vertical-align: middle;\n",
       "    }\n",
       "\n",
       "    .dataframe tbody tr th {\n",
       "        vertical-align: top;\n",
       "    }\n",
       "\n",
       "    .dataframe thead th {\n",
       "        text-align: right;\n",
       "    }\n",
       "</style>\n",
       "<table border=\"1\" class=\"dataframe\">\n",
       "  <thead>\n",
       "    <tr style=\"text-align: right;\">\n",
       "      <th></th>\n",
       "      <th>0</th>\n",
       "      <th>1</th>\n",
       "      <th>2</th>\n",
       "      <th>3</th>\n",
       "      <th>4</th>\n",
       "    </tr>\n",
       "  </thead>\n",
       "  <tbody>\n",
       "    <tr>\n",
       "      <th>summary</th>\n",
       "      <td>count</td>\n",
       "      <td>mean</td>\n",
       "      <td>stddev</td>\n",
       "      <td>min</td>\n",
       "      <td>max</td>\n",
       "    </tr>\n",
       "    <tr>\n",
       "      <th>longitude</th>\n",
       "      <td>17000</td>\n",
       "      <td>-119.56210823529375</td>\n",
       "      <td>2.0051664084260357</td>\n",
       "      <td>-124.35</td>\n",
       "      <td>-114.31</td>\n",
       "    </tr>\n",
       "    <tr>\n",
       "      <th>latitude</th>\n",
       "      <td>17000</td>\n",
       "      <td>35.6252247058827</td>\n",
       "      <td>2.1373397946570867</td>\n",
       "      <td>32.54</td>\n",
       "      <td>41.95</td>\n",
       "    </tr>\n",
       "    <tr>\n",
       "      <th>housing_median_age</th>\n",
       "      <td>17000</td>\n",
       "      <td>28.58935294117647</td>\n",
       "      <td>12.586936981660406</td>\n",
       "      <td>1.0</td>\n",
       "      <td>52.0</td>\n",
       "    </tr>\n",
       "    <tr>\n",
       "      <th>total_rooms</th>\n",
       "      <td>17000</td>\n",
       "      <td>2643.664411764706</td>\n",
       "      <td>2179.947071452777</td>\n",
       "      <td>2.0</td>\n",
       "      <td>37937.0</td>\n",
       "    </tr>\n",
       "    <tr>\n",
       "      <th>total_bedrooms</th>\n",
       "      <td>17000</td>\n",
       "      <td>539.4108235294118</td>\n",
       "      <td>421.4994515798648</td>\n",
       "      <td>1.0</td>\n",
       "      <td>6445.0</td>\n",
       "    </tr>\n",
       "    <tr>\n",
       "      <th>population</th>\n",
       "      <td>17000</td>\n",
       "      <td>1429.5739411764705</td>\n",
       "      <td>1147.852959159527</td>\n",
       "      <td>3.0</td>\n",
       "      <td>35682.0</td>\n",
       "    </tr>\n",
       "    <tr>\n",
       "      <th>households</th>\n",
       "      <td>17000</td>\n",
       "      <td>501.2219411764706</td>\n",
       "      <td>384.5208408559016</td>\n",
       "      <td>1.0</td>\n",
       "      <td>6082.0</td>\n",
       "    </tr>\n",
       "    <tr>\n",
       "      <th>median_income</th>\n",
       "      <td>17000</td>\n",
       "      <td>3.883578100000021</td>\n",
       "      <td>1.9081565183791036</td>\n",
       "      <td>0.4999</td>\n",
       "      <td>15.0001</td>\n",
       "    </tr>\n",
       "    <tr>\n",
       "      <th>median_house_value</th>\n",
       "      <td>17000</td>\n",
       "      <td>207300.91235294117</td>\n",
       "      <td>115983.76438720895</td>\n",
       "      <td>14999.0</td>\n",
       "      <td>500001.0</td>\n",
       "    </tr>\n",
       "  </tbody>\n",
       "</table>\n",
       "</div>"
      ],
      "text/plain": [
       "                        0                    1                   2        3  \\\n",
       "summary             count                 mean              stddev      min   \n",
       "longitude           17000  -119.56210823529375  2.0051664084260357  -124.35   \n",
       "latitude            17000     35.6252247058827  2.1373397946570867    32.54   \n",
       "housing_median_age  17000    28.58935294117647  12.586936981660406      1.0   \n",
       "total_rooms         17000    2643.664411764706   2179.947071452777      2.0   \n",
       "total_bedrooms      17000    539.4108235294118   421.4994515798648      1.0   \n",
       "population          17000   1429.5739411764705   1147.852959159527      3.0   \n",
       "households          17000    501.2219411764706   384.5208408559016      1.0   \n",
       "median_income       17000    3.883578100000021  1.9081565183791036   0.4999   \n",
       "median_house_value  17000   207300.91235294117  115983.76438720895  14999.0   \n",
       "\n",
       "                           4  \n",
       "summary                  max  \n",
       "longitude            -114.31  \n",
       "latitude               41.95  \n",
       "housing_median_age      52.0  \n",
       "total_rooms          37937.0  \n",
       "total_bedrooms        6445.0  \n",
       "population           35682.0  \n",
       "households            6082.0  \n",
       "median_income        15.0001  \n",
       "median_house_value  500001.0  "
      ]
     },
     "execution_count": 24,
     "metadata": {},
     "output_type": "execute_result"
    }
   ],
   "source": [
    "train_data.describe().toPandas().transpose()"
   ]
  },
  {
   "cell_type": "code",
   "execution_count": 29,
   "metadata": {},
   "outputs": [
    {
     "data": {
      "text/plain": [
       "17000"
      ]
     },
     "execution_count": 29,
     "metadata": {},
     "output_type": "execute_result"
    }
   ],
   "source": [
    "train_data = train_data.na.drop()\n",
    "train_data.count()"
   ]
  },
  {
   "cell_type": "markdown",
   "metadata": {},
   "source": [
    "Correlation matrix"
   ]
  },
  {
   "cell_type": "code",
   "execution_count": 55,
   "metadata": {},
   "outputs": [
    {
     "data": {
      "text/html": [
       "<div>\n",
       "<style scoped>\n",
       "    .dataframe tbody tr th:only-of-type {\n",
       "        vertical-align: middle;\n",
       "    }\n",
       "\n",
       "    .dataframe tbody tr th {\n",
       "        vertical-align: top;\n",
       "    }\n",
       "\n",
       "    .dataframe thead th {\n",
       "        text-align: right;\n",
       "    }\n",
       "</style>\n",
       "<table border=\"1\" class=\"dataframe\">\n",
       "  <thead>\n",
       "    <tr style=\"text-align: right;\">\n",
       "      <th></th>\n",
       "      <th>longitude</th>\n",
       "      <th>latitude</th>\n",
       "      <th>housing_median_age</th>\n",
       "      <th>total_rooms</th>\n",
       "      <th>total_bedrooms</th>\n",
       "      <th>population</th>\n",
       "      <th>households</th>\n",
       "      <th>median_income</th>\n",
       "      <th>median_house_value</th>\n",
       "    </tr>\n",
       "  </thead>\n",
       "  <tbody>\n",
       "    <tr>\n",
       "      <th>longitude</th>\n",
       "      <td>1.000000</td>\n",
       "      <td>-0.925208</td>\n",
       "      <td>-0.114250</td>\n",
       "      <td>0.047010</td>\n",
       "      <td>0.071802</td>\n",
       "      <td>0.101674</td>\n",
       "      <td>0.059628</td>\n",
       "      <td>-0.015485</td>\n",
       "      <td>-0.044982</td>\n",
       "    </tr>\n",
       "    <tr>\n",
       "      <th>latitude</th>\n",
       "      <td>-0.925208</td>\n",
       "      <td>1.000000</td>\n",
       "      <td>0.016454</td>\n",
       "      <td>-0.038773</td>\n",
       "      <td>-0.069373</td>\n",
       "      <td>-0.111261</td>\n",
       "      <td>-0.074902</td>\n",
       "      <td>-0.080303</td>\n",
       "      <td>-0.144917</td>\n",
       "    </tr>\n",
       "    <tr>\n",
       "      <th>housing_median_age</th>\n",
       "      <td>-0.114250</td>\n",
       "      <td>0.016454</td>\n",
       "      <td>1.000000</td>\n",
       "      <td>-0.360984</td>\n",
       "      <td>-0.320434</td>\n",
       "      <td>-0.295890</td>\n",
       "      <td>-0.302754</td>\n",
       "      <td>-0.115932</td>\n",
       "      <td>0.106758</td>\n",
       "    </tr>\n",
       "    <tr>\n",
       "      <th>total_rooms</th>\n",
       "      <td>0.047010</td>\n",
       "      <td>-0.038773</td>\n",
       "      <td>-0.360984</td>\n",
       "      <td>1.000000</td>\n",
       "      <td>0.928403</td>\n",
       "      <td>0.860170</td>\n",
       "      <td>0.919018</td>\n",
       "      <td>0.195383</td>\n",
       "      <td>0.130991</td>\n",
       "    </tr>\n",
       "    <tr>\n",
       "      <th>total_bedrooms</th>\n",
       "      <td>0.071802</td>\n",
       "      <td>-0.069373</td>\n",
       "      <td>-0.320434</td>\n",
       "      <td>0.928403</td>\n",
       "      <td>1.000000</td>\n",
       "      <td>0.881169</td>\n",
       "      <td>0.980920</td>\n",
       "      <td>-0.013495</td>\n",
       "      <td>0.045783</td>\n",
       "    </tr>\n",
       "    <tr>\n",
       "      <th>population</th>\n",
       "      <td>0.101674</td>\n",
       "      <td>-0.111261</td>\n",
       "      <td>-0.295890</td>\n",
       "      <td>0.860170</td>\n",
       "      <td>0.881169</td>\n",
       "      <td>1.000000</td>\n",
       "      <td>0.909247</td>\n",
       "      <td>-0.000638</td>\n",
       "      <td>-0.027850</td>\n",
       "    </tr>\n",
       "    <tr>\n",
       "      <th>households</th>\n",
       "      <td>0.059628</td>\n",
       "      <td>-0.074902</td>\n",
       "      <td>-0.302754</td>\n",
       "      <td>0.919018</td>\n",
       "      <td>0.980920</td>\n",
       "      <td>0.909247</td>\n",
       "      <td>1.000000</td>\n",
       "      <td>0.007644</td>\n",
       "      <td>0.061031</td>\n",
       "    </tr>\n",
       "    <tr>\n",
       "      <th>median_income</th>\n",
       "      <td>-0.015485</td>\n",
       "      <td>-0.080303</td>\n",
       "      <td>-0.115932</td>\n",
       "      <td>0.195383</td>\n",
       "      <td>-0.013495</td>\n",
       "      <td>-0.000638</td>\n",
       "      <td>0.007644</td>\n",
       "      <td>1.000000</td>\n",
       "      <td>0.691871</td>\n",
       "    </tr>\n",
       "    <tr>\n",
       "      <th>median_house_value</th>\n",
       "      <td>-0.044982</td>\n",
       "      <td>-0.144917</td>\n",
       "      <td>0.106758</td>\n",
       "      <td>0.130991</td>\n",
       "      <td>0.045783</td>\n",
       "      <td>-0.027850</td>\n",
       "      <td>0.061031</td>\n",
       "      <td>0.691871</td>\n",
       "      <td>1.000000</td>\n",
       "    </tr>\n",
       "  </tbody>\n",
       "</table>\n",
       "</div>"
      ],
      "text/plain": [
       "                    longitude  latitude  housing_median_age  total_rooms  \\\n",
       "longitude            1.000000 -0.925208           -0.114250     0.047010   \n",
       "latitude            -0.925208  1.000000            0.016454    -0.038773   \n",
       "housing_median_age  -0.114250  0.016454            1.000000    -0.360984   \n",
       "total_rooms          0.047010 -0.038773           -0.360984     1.000000   \n",
       "total_bedrooms       0.071802 -0.069373           -0.320434     0.928403   \n",
       "population           0.101674 -0.111261           -0.295890     0.860170   \n",
       "households           0.059628 -0.074902           -0.302754     0.919018   \n",
       "median_income       -0.015485 -0.080303           -0.115932     0.195383   \n",
       "median_house_value  -0.044982 -0.144917            0.106758     0.130991   \n",
       "\n",
       "                    total_bedrooms  population  households  median_income  \\\n",
       "longitude                 0.071802    0.101674    0.059628      -0.015485   \n",
       "latitude                 -0.069373   -0.111261   -0.074902      -0.080303   \n",
       "housing_median_age       -0.320434   -0.295890   -0.302754      -0.115932   \n",
       "total_rooms               0.928403    0.860170    0.919018       0.195383   \n",
       "total_bedrooms            1.000000    0.881169    0.980920      -0.013495   \n",
       "population                0.881169    1.000000    0.909247      -0.000638   \n",
       "households                0.980920    0.909247    1.000000       0.007644   \n",
       "median_income            -0.013495   -0.000638    0.007644       1.000000   \n",
       "median_house_value        0.045783   -0.027850    0.061031       0.691871   \n",
       "\n",
       "                    median_house_value  \n",
       "longitude                    -0.044982  \n",
       "latitude                     -0.144917  \n",
       "housing_median_age            0.106758  \n",
       "total_rooms                   0.130991  \n",
       "total_bedrooms                0.045783  \n",
       "population                   -0.027850  \n",
       "households                    0.061031  \n",
       "median_income                 0.691871  \n",
       "median_house_value            1.000000  "
      ]
     },
     "execution_count": 55,
     "metadata": {},
     "output_type": "execute_result"
    },
    {
     "data": {
      "image/png": "[encoded data removed]",
      "text/plain": [
       "<Figure size 432x288 with 2 Axes>"
      ]
     },
     "metadata": {
      "needs_background": "light"
     },
     "output_type": "display_data"
    }
   ],
   "source": [
    "numeric_features = [t[0] for t in train_data.dtypes if t[1] == 'int' or t[1] == 'double']\n",
    "\n",
    "import seaborn as sns\n",
    "sampled_data = train_data.select(numeric_features).toPandas()\n",
    "corr = sampled_data.corr()\n",
    "sns.heatmap(corr, \n",
    "        xticklabels=corr.columns,\n",
    "        yticklabels=corr.columns)\n",
    "corr"
   ]
  },
  {
   "cell_type": "markdown",
   "metadata": {},
   "source": [
    "Since Median_income is highly correlated with median house income compared to other predictor variables, We select median_income as our 1st regressor. Latitude is next in list, we can use latitude as our 2nd regressor. But, using latitude irrespective of longitude doesn't make intutive sense. Hence, We use total_rooms which is thrid in the correlation list as our 2nd predictor variable. We drop other fields from our dataset. Correlation between median_income and total_rooms is 0.19 which shows that these are not highly correlated and hence can be used in our model."
   ]
  },
  {
   "cell_type": "code",
   "execution_count": 9,
   "metadata": {},
   "outputs": [],
   "source": [
    "drop_list = ['longitude', 'latitude', 'housing_median_age', 'total_bedrooms','population','households']\n",
    "train_data = train_data.select([column for column in train_data.columns if column not in drop_list])"
   ]
  },
  {
   "cell_type": "code",
   "execution_count": 10,
   "metadata": {},
   "outputs": [
    {
     "name": "stdout",
     "output_type": "stream",
     "text": [
      "+-----------+-------------+------------------+\n",
      "|total_rooms|median_income|median_house_value|\n",
      "+-----------+-------------+------------------+\n",
      "|     5612.0|       1.4936|           66900.0|\n",
      "|     7650.0|         1.82|           80100.0|\n",
      "|      720.0|       1.6509|           85700.0|\n",
      "|     1501.0|       3.1917|           73400.0|\n",
      "|     1454.0|        1.925|           65500.0|\n",
      "+-----------+-------------+------------------+\n",
      "only showing top 5 rows\n",
      "\n"
     ]
    }
   ],
   "source": [
    "train_data.show(5)"
   ]
  },
  {
   "cell_type": "code",
   "execution_count": 11,
   "metadata": {},
   "outputs": [
    {
     "name": "stdout",
     "output_type": "stream",
     "text": [
      "+---------------+------------------+\n",
      "|       features|median_house_value|\n",
      "+---------------+------------------+\n",
      "|[5612.0,1.4936]|           66900.0|\n",
      "|  [7650.0,1.82]|           80100.0|\n",
      "| [720.0,1.6509]|           85700.0|\n",
      "+---------------+------------------+\n",
      "only showing top 3 rows\n",
      "\n"
     ]
    }
   ],
   "source": [
    "from pyspark.ml.feature import VectorAssembler\n",
    "\n",
    "vectorAssembler = VectorAssembler(inputCols = ['total_rooms', 'median_income'], outputCol = 'features')\n",
    "vtrain_data = vectorAssembler.transform(train_data)\n",
    "vtrain_data = vtrain_data.select(['features', 'median_house_value'])\n",
    "vtrain_data.show(3)"
   ]
  },
  {
   "cell_type": "code",
   "execution_count": 12,
   "metadata": {},
   "outputs": [
    {
     "name": "stdout",
     "output_type": "stream",
     "text": [
      "13602\n",
      "3398\n"
     ]
    }
   ],
   "source": [
    "### Randomly split data into training and test sets. set seed for reproducibility\n",
    "(trainingData, testData) = vtrain_data.randomSplit([0.8, 0.2], seed = 100)\n",
    "print(trainingData.count())\n",
    "print(testData.count())"
   ]
  },
  {
   "cell_type": "code",
   "execution_count": 13,
   "metadata": {},
   "outputs": [
    {
     "name": "stdout",
     "output_type": "stream",
     "text": [
      "Coefficients: [-0.2686351085970173,42481.59334199601]\n",
      "Intercept: 43387.411852766505\n"
     ]
    }
   ],
   "source": [
    "from pyspark.ml.regression import LinearRegression\n",
    "\n",
    "lr = LinearRegression(featuresCol = 'features', labelCol='median_house_value', maxIter=10, regParam=0.3, elasticNetParam=0.8)\n",
    "lr_model = lr.fit(trainingData)\n",
    "print(\"Coefficients: \" + str(lr_model.coefficients))\n",
    "print(\"Intercept: \" + str(lr_model.intercept))"
   ]
  },
  {
   "cell_type": "code",
   "execution_count": 14,
   "metadata": {},
   "outputs": [
    {
     "name": "stdout",
     "output_type": "stream",
     "text": [
      "RMSE: 83690.965928\n",
      "r2: 0.481417\n"
     ]
    }
   ],
   "source": [
    "trainingSummary = lr_model.summary\n",
    "print(\"RMSE: %f\" % trainingSummary.rootMeanSquaredError)\n",
    "print(\"r2: %f\" % trainingSummary.r2)"
   ]
  },
  {
   "cell_type": "code",
   "execution_count": 15,
   "metadata": {},
   "outputs": [
    {
     "name": "stdout",
     "output_type": "stream",
     "text": [
      "+------------------+------------------+-------------+\n",
      "|        prediction|median_house_value|     features|\n",
      "+------------------+------------------+-------------+\n",
      "| 64619.93083780136|          162500.0|[15.0,0.4999]|\n",
      "|112415.16560155529|          275000.0| [18.0,1.625]|\n",
      "|202688.55145329682|          375000.0|  [18.0,3.75]|\n",
      "| 197377.8150153301|           80000.0| [20.0,3.625]|\n",
      "|124550.00773849478|          125000.0|[26.0,1.9107]|\n",
      "+------------------+------------------+-------------+\n",
      "only showing top 5 rows\n",
      "\n",
      "R Squared (R2) on test data = 0.467337\n"
     ]
    }
   ],
   "source": [
    "lr_predictions = lr_model.transform(testData)\n",
    "lr_predictions.select(\"prediction\",\"median_house_value\",\"features\").show(5)\n",
    "\n",
    "from pyspark.ml.evaluation import RegressionEvaluator\n",
    "lr_evaluator = RegressionEvaluator(predictionCol=\"prediction\", \\\n",
    "                 labelCol=\"median_house_value\",metricName=\"r2\")\n",
    "print(\"R Squared (R2) on test data = %g\" % lr_evaluator.evaluate(lr_predictions))"
   ]
  },
  {
   "cell_type": "code",
   "execution_count": 16,
   "metadata": {},
   "outputs": [
    {
     "name": "stdout",
     "output_type": "stream",
     "text": [
      "Root Mean Squared Error (RMSE) on test data = 83948.9\n"
     ]
    }
   ],
   "source": [
    "test_result = lr_model.evaluate(testData)\n",
    "print(\"Root Mean Squared Error (RMSE) on test data = %g\" % test_result.rootMeanSquaredError)"
   ]
  },
  {
   "cell_type": "code",
   "execution_count": 17,
   "metadata": {},
   "outputs": [
    {
     "name": "stdout",
     "output_type": "stream",
     "text": [
      "numIterations: 9\n",
      "objectiveHistory: [0.5, 0.4317828162110113, 0.30318938954764113, 0.2701795332494637, 0.2620817327490423, 0.2593056407172949, 0.25929324456848435, 0.259293060951857, 0.2592930609518114]\n",
      "+-------------------+\n",
      "|          residuals|\n",
      "+-------------------+\n",
      "|  -6780.65876978985|\n",
      "|-180612.41106117214|\n",
      "| -3019.037724810478|\n",
      "| 2879.2632568728513|\n",
      "|  92169.53448346659|\n",
      "|  283847.2895478784|\n",
      "| 242001.78664917088|\n",
      "| -297688.0677646656|\n",
      "| -44913.55379090371|\n",
      "| -76774.74879740071|\n",
      "|  96349.16999363856|\n",
      "|-108233.17407591111|\n",
      "|-27412.479250469303|\n",
      "| 10143.277993759868|\n",
      "| -17392.99805203092|\n",
      "|-126030.75902375267|\n",
      "|  62589.66983039945|\n",
      "|-44355.384364143625|\n",
      "| -99890.84897116217|\n",
      "| -161686.6569579202|\n",
      "+-------------------+\n",
      "only showing top 20 rows\n",
      "\n"
     ]
    }
   ],
   "source": [
    "print(\"numIterations: %d\" % trainingSummary.totalIterations)\n",
    "print(\"objectiveHistory: %s\" % str(trainingSummary.objectiveHistory))\n",
    "trainingSummary.residuals.show()"
   ]
  },
  {
   "cell_type": "code",
   "execution_count": 18,
   "metadata": {},
   "outputs": [
    {
     "name": "stdout",
     "output_type": "stream",
     "text": [
      "+------------------+------------------+--------------+\n",
      "|        prediction|median_house_value|      features|\n",
      "+------------------+------------------+--------------+\n",
      "| 64619.93083780136|          162500.0| [15.0,0.4999]|\n",
      "|112415.16560155529|          275000.0|  [18.0,1.625]|\n",
      "|202688.55145329682|          375000.0|   [18.0,3.75]|\n",
      "| 197377.8150153301|           80000.0|  [20.0,3.625]|\n",
      "|124550.00773849478|          125000.0| [26.0,1.9107]|\n",
      "|  680607.501088783|          500001.0|[30.0,15.0001]|\n",
      "|221563.61064295948|          270800.0| [32.0,4.1944]|\n",
      "| 91168.45895816814|          225000.0|  [40.0,1.125]|\n",
      "|133650.05230016416|          375000.0|  [40.0,2.125]|\n",
      "| 268311.1118594144|          350000.0| [45.0,5.2949]|\n",
      "| 180114.5386518792|          112500.0| [47.0,3.2188]|\n",
      "|154888.16262007618|          137500.0|  [50.0,2.625]|\n",
      "| 218609.2094575272|           67500.0|  [55.0,4.125]|\n",
      "|186747.20854570443|          106300.0|  [58.0,3.375]|\n",
      "| 228166.2247839333|           67500.0|   [60.0,4.35]|\n",
      "|138422.78430853237|          450000.0| [64.0,2.2375]|\n",
      "| 89832.82511177118|          187500.0| [78.0,1.0938]|\n",
      "|  81204.2762337946|          154200.0| [80.0,0.8907]|\n",
      "| 680591.1143471586|          500001.0|[91.0,15.0001]|\n",
      "| 97126.05878086275|           27500.0| [97.0,1.2656]|\n",
      "+------------------+------------------+--------------+\n",
      "only showing top 20 rows\n",
      "\n"
     ]
    }
   ],
   "source": [
    "predictions = lr_model.transform(testData)\n",
    "predictions.select(\"prediction\",\"median_house_value\",\"features\").show()"
   ]
  },
  {
   "cell_type": "code",
   "execution_count": 21,
   "metadata": {},
   "outputs": [],
   "source": [
    "from pyspark.ml.tuning import ParamGridBuilder, CrossValidator\n",
    "\n",
    "# Create ParamGrid for Cross Validation\n",
    "paramGrid = (ParamGridBuilder()\n",
    "              .addGrid(lr.regParam, [0.01, 0.5, 2.0])\n",
    "              .addGrid(lr.elasticNetParam, [0.0, 0.5, 1.0])\n",
    "              .addGrid(lr.maxIter, [1, 5, 10])\n",
    "              .build())\n",
    "# Create 5-fold CrossValidator\n",
    "cv = CrossValidator(estimator=lr, estimatorParamMaps=paramGrid, evaluator=lr_evaluator, numFolds=5)\n",
    "\n",
    "# Run cross validations\n",
    "cvModel = cv.fit(trainingData)\n",
    "# this will likely take a fair amount of time because of the amount of models that we're creating and testing"
   ]
  },
  {
   "cell_type": "code",
   "execution_count": 23,
   "metadata": {},
   "outputs": [
    {
     "data": {
      "text/plain": [
       "0.4673271662226465"
      ]
     },
     "execution_count": 23,
     "metadata": {},
     "output_type": "execute_result"
    }
   ],
   "source": [
    "# Use test set here so we can measure the accuracy of our model on new data\n",
    "\n",
    "predictions2 = cvModel.transform(testData)\n",
    "# cvModel uses the best model found from the Cross Validation\n",
    "# Evaluate best model\n",
    "lr_evaluator.evaluate(predictions2)"
   ]
  },
  {
   "cell_type": "code",
   "execution_count": 24,
   "metadata": {},
   "outputs": [
    {
     "name": "stdout",
     "output_type": "stream",
     "text": [
      "Model Intercept:  42823.93480192193\n"
     ]
    }
   ],
   "source": [
    "print('Model Intercept: ', cvModel.bestModel.intercept)"
   ]
  }
 ],
 "metadata": {
  "kernelspec": {
   "display_name": "Python 3",
   "language": "python",
   "name": "python3"
  },
  "language_info": {
   "codemirror_mode": {
    "name": "ipython",
    "version": 3
   },
   "file_extension": ".py",
   "mimetype": "text/x-python",
   "name": "python",
   "nbconvert_exporter": "python",
   "pygments_lexer": "ipython3",
   "version": "3.7.3"
  }
 },
 "nbformat": 4,
 "nbformat_minor": 2
}
